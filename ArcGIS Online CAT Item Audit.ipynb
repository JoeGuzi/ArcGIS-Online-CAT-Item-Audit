{
 "cells": [
  {
   "cell_type": "markdown",
   "metadata": {},
   "source": [
    "# ArcGIS Online CAT Item Audit\n",
    "Description: This will audit all of the items in the AGO organization.\n",
    " \n",
    "Beginning with: AGOLCatItemsPythonAPI.py\n",
    " \n",
    "Created on: 2/16/2018\n",
    " \n",
    "Purpose:This will audit all of the items in the AGO organization,\n",
    "    and the output will be an excel sheet. It is going to be awesome.\n",
    " \n",
    "Authored by: Joe Guzi\n",
    " \n",
    "Previous Production Date: 2/16/18      Production Date: 12/26/18"
   ]
  },
  {
   "cell_type": "markdown",
   "metadata": {},
   "source": [
    "# Connect to ArcGIS Online"
   ]
  },
  {
   "cell_type": "code",
   "execution_count": null,
   "metadata": {},
   "outputs": [],
   "source": [
    "# import\n",
    "from arcgis.gis import GIS\n",
    "import getpass\n",
    "from IPython.display import display\n",
    "from arcgis.mapping import WebMap\n",
    "import json\n",
    "import requests\n",
    "import csv\n",
    "import time\n",
    "from tkinter.filedialog import asksaveasfilename\n",
    "\n",
    "# Connection Variables\n",
    "Organization = input(\"What's your oranization? \")\n",
    "User = input(\"What's your  username? \")\n",
    "Password = getpass.getpass('Password: ')\n",
    "\n",
    "# Connection \n",
    "gis = GIS(Organization, User, Password, verify_cert=False)\n",
    "gis"
   ]
  },
  {
   "cell_type": "markdown",
   "metadata": {},
   "source": [
    "# Audit Section"
   ]
  },
  {
   "cell_type": "code",
   "execution_count": null,
   "metadata": {},
   "outputs": [],
   "source": [
    "Audit = gis.content.search(query=\"\", max_items = 10000)\n",
    "t = \"\"\n",
    "for Item in Audit:\n",
    "    ItemID = str(Item.get(\"id\"))\n",
    "    ItemOwner = str(Item.get(\"owner\"))\n",
    "    CreatedTime = str(Item.get(\"created\"))\n",
    "    if int(CreatedTime)<0:\n",
    "        GroupModified = \"\"\n",
    "    else:\n",
    "        realtime = float(CreatedTime[:-3])\n",
    "        ItemCreated = str(time.strftime(\"%b %d %Y %H:%M:%S\", time.gmtime(realtime)))\n",
    "\n",
    "    ModifiedTime = str(Item.get(\"modified\"))\n",
    "    if int(ModifiedTime)<0:\n",
    "        ItemModified = \"\"\n",
    "    else:\n",
    "        realtime = float(ModifiedTime[:-3])\n",
    "        ItemModified = str(time.strftime(\"%b %d %Y %H:%M:%S\", time.gmtime(realtime)))\n",
    "    ItemName = str(Item.get(\"name\"))\n",
    "    ItemTitle = str(Item.get(\"title\"))#.replace(',', \"\"))\n",
    "    ItemType = str(Item.get(\"type\"))\n",
    "    ItemTypeKeywords = str(Item.get(\"typeKeywords\"))\n",
    "    ItemDescription = str(Item.get(\"description\"))\n",
    "    ItemTags = str(Item.get(\"tags\"))\n",
    "    ItemSnippet = str(Item.get(\"snippet\"))\n",
    "    ItemThumbnail = str(Item.get(\"thumbnail\"))\n",
    "    ItemExtent = str(Item.get(\"extent\"))\n",
    "    ItemSpatialReference = str(Item.get(\"spatialReference\"))\n",
    "    ItemAccessInformation = str(Item.get(\"accessInformation\"))\n",
    "    ItemLicenseInfo = str(Item.get(\"licenseInfo\"))\n",
    "    ItemCulture = str(Item.get(\"culture\"))\n",
    "    ItemURL = str(Item.get(\"url\"))\n",
    "    ItemAccess = str(Item.get(\"access\"))\n",
    "    ItemSize = str(Item.get(\"size\"))\n",
    "    ItemListed= str(Item.get(\"listed\"))\n",
    "    ItemNumComments = str(Item.get(\"numComments\"))\n",
    "    ItemNumRatings = str(Item.get(\"numRatings\"))\n",
    "    ItemAvgRating = str(Item.get(\"avgRating\"))\n",
    "    ItemNumViews = str(Item.get(\"numViews\"))\n",
    "\n",
    "    t += ItemID + \",\"\n",
    "    t += ItemOwner + \",\"\n",
    "    t += ItemCreated + \",\"\n",
    "    t += ItemModified + \",\"\n",
    "    t += ItemName.replace('℠', \"\") + \",\"\n",
    "    ItemTitle = ItemTitle.replace(\",\", \";\")\n",
    "    t += ItemTitle.replace('℠', \"\") + \",\"\n",
    "    t += ItemType + \",\"\n",
    "    t += ItemTypeKeywords.replace(',', \"|\") + \",\"\n",
    "    t += \" \" + \",\" #ItemDescription.replace('℠', \"\")  + \",\"\n",
    "    t += ItemTags.replace(',', \"|\") + \",\"\n",
    "    ItemSnippet = ItemSnippet.replace(\",\", \";\")\n",
    "    ItemSnippet = ItemSnippet.replace(\"\\n\", \";\")\n",
    "    t += ItemSnippet.replace('℠', \"\") + \",\"\n",
    "    t += ItemThumbnail + \",\"\n",
    "    t += ItemExtent.replace(',', \";\") + \",\"\n",
    "    t += ItemSpatialReference + \",\"\n",
    "    ItemAccessInformation = ItemAccessInformation.replace('<p>', \" \")\n",
    "    ItemAccessInformation = ItemAccessInformation.replace('</p>', \" \")\n",
    "    ItemAccessInformation = ItemAccessInformation.replace('\\n', \" \")\n",
    "    t += ItemAccessInformation.replace(',', \";\") + \",\"\n",
    "    ItemLicenseInfo = ItemLicenseInfo.replace('<p>', \" \")\n",
    "    ItemLicenseInfo = ItemLicenseInfo.replace('</p>', \" \")\n",
    "    ItemLicenseInfo = ItemLicenseInfo.replace('\\n', \" \")\n",
    "    t += \" \" + \",\" #ItemLicenseInfo.replace(',', \";\") + \",\"\n",
    "    t += ItemCulture + \",\"\n",
    "    t += ItemURL + \",\"\n",
    "    t += ItemAccess + \",\"\n",
    "    t += ItemSize + \",\"\n",
    "    t += ItemListed + \",\"\n",
    "    t += ItemNumComments + \",\"\n",
    "    t += ItemNumRatings + \",\"\n",
    "    t += ItemAvgRating + \",\"\n",
    "    t += ItemNumViews + \",\"            \n",
    "    t += \"\\n\"\n",
    "print(\"Audit Complete!\")"
   ]
  },
  {
   "cell_type": "markdown",
   "metadata": {},
   "source": [
    "# Write the Audit Results to Excel"
   ]
  },
  {
   "cell_type": "code",
   "execution_count": null,
   "metadata": {},
   "outputs": [],
   "source": [
    "filename = asksaveasfilename() # show an \"Open\" dialog box and return the path to the selected file\n",
    "print(filename)\n",
    "csvfile = filename + \".csv\"\n",
    "print(csvfile)\n",
    "with open(csvfile, 'w') as output:\n",
    "    print (\"Wrtie data To CSV File\")\n",
    "    output.write(\"id,owner,created,modified,name,title,type,typeKeywords,description,tags,snippet,thumbnail,extent,spatialReference,accessInformation,licenseInfo,culture,url,access,size,listed,numComments,numRatings,avgRatings,numViews\\n\")\n",
    "    output.writelines(t)\n",
    "    print(\"Wrtie data To CSV File Complete!\")"
   ]
  },
  {
   "cell_type": "code",
   "execution_count": null,
   "metadata": {},
   "outputs": [],
   "source": []
  }
 ],
 "metadata": {
  "kernelspec": {
   "display_name": "Python 3",
   "language": "python",
   "name": "python3"
  },
  "language_info": {
   "codemirror_mode": {
    "name": "ipython",
    "version": 3
   },
   "file_extension": ".py",
   "mimetype": "text/x-python",
   "name": "python",
   "nbconvert_exporter": "python",
   "pygments_lexer": "ipython3",
   "version": "3.6.6"
  }
 },
 "nbformat": 4,
 "nbformat_minor": 2
}
